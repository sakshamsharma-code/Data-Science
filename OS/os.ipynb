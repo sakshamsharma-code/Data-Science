{
 "cells": [
  {
   "cell_type": "markdown",
   "id": "122b213f",
   "metadata": {},
   "source": [
    "## OS"
   ]
  },
  {
   "cell_type": "code",
   "execution_count": 3,
   "id": "55b94996",
   "metadata": {},
   "outputs": [],
   "source": [
    "import os    # import is a keyword that is used to include modules in Python"
   ]
  },
  {
   "cell_type": "code",
   "execution_count": 2,
   "id": "9909045d",
   "metadata": {},
   "outputs": [
    {
     "name": "stdout",
     "output_type": "stream",
     "text": [
      "c:\\Users\\nanus\\OneDrive\\Desktop\\DS 1st JUly\\OS\n"
     ]
    }
   ],
   "source": [
    "file=os.getcwd()  # getcwd() is a method that returns the current working directory\n",
    "print(file)"
   ]
  },
  {
   "cell_type": "code",
   "execution_count": 3,
   "id": "4d5ad1e2",
   "metadata": {},
   "outputs": [
    {
     "name": "stdout",
     "output_type": "stream",
     "text": [
      "total file in this directory: ['os.ipynb']\n"
     ]
    }
   ],
   "source": [
    "file=os.listdir(r\"c:\\Users\\nanus\\OneDrive\\Desktop\\DS 1st JUly\\OS\")  # listdir() is a method that returns a list of all files and directories in the specified path\n",
    "print(\"total file in this directory:\",file)"
   ]
  },
  {
   "cell_type": "code",
   "execution_count": 4,
   "id": "42ced6c2",
   "metadata": {},
   "outputs": [
    {
     "data": {
      "text/plain": [
       "['Cybersecurity Fundamentals.lnk',\n",
       " 'desktop.ini',\n",
       " 'Documents',\n",
       " 'DS 1st July',\n",
       " 'Forage.lnk',\n",
       " 'GfG.lnk',\n",
       " 'GitHub.lnk',\n",
       " 'Home   SkillsBuild.lnk',\n",
       " 'IBM',\n",
       " 'Intro to Cloud.lnk',\n",
       " 'ISRO HACKATHON GAGAN YATRI PS-10.pdf',\n",
       " 'LeetCode.lnk',\n",
       " 'MinGW Installer.lnk',\n",
       " 'NVIDIA GTC Playlist.lnk',\n",
       " 'Python for DS.lnk',\n",
       " 'Sheets.lnk',\n",
       " 'Striver Sheet.lnk',\n",
       " 'The Ultimate Python Handbook.pdf',\n",
       " 'Unstop SmartHire.lnk',\n",
       " 'Visual Studio Code.lnk']"
      ]
     },
     "execution_count": 4,
     "metadata": {},
     "output_type": "execute_result"
    }
   ],
   "source": [
    "path=r\"c:\\Users\\nanus\\OneDrive\\Desktop\"  # listdir() is a method that returns a list of all files and directories in the specified path\n",
    "os.listdir(path)"
   ]
  },
  {
   "cell_type": "code",
   "execution_count": null,
   "id": "1940c818",
   "metadata": {},
   "outputs": [],
   "source": [
    "os.mkdir(\"test\")   #it will create a folder named test\n",
    "print(\"test directory created\")"
   ]
  },
  {
   "cell_type": "code",
   "execution_count": 5,
   "id": "c19e1547",
   "metadata": {},
   "outputs": [
    {
     "data": {
      "text/plain": [
       "['os.ipynb']"
      ]
     },
     "execution_count": 5,
     "metadata": {},
     "output_type": "execute_result"
    }
   ],
   "source": [
    "os.listdir(os.getcwd())   # to check if the folder is created or not"
   ]
  },
  {
   "cell_type": "code",
   "execution_count": null,
   "id": "b958759a",
   "metadata": {},
   "outputs": [],
   "source": [
    "os.rename(\"test\",\"data science\")      # it will rename the folder test to data science\n",
    "print(\"test directory renamed to data science\")"
   ]
  },
  {
   "cell_type": "code",
   "execution_count": null,
   "id": "39d4fadc",
   "metadata": {},
   "outputs": [],
   "source": [
    "os.rmdir(\"none\")  # it will remove the folder none\n",
    "print(\"none directory removed\")"
   ]
  },
  {
   "cell_type": "code",
   "execution_count": null,
   "id": "d392c30b",
   "metadata": {},
   "outputs": [],
   "source": [
    "os.rmdir(\"data science\")  # it will remove the folder named 'data science'\n",
    "print(\"data science directory removed\")"
   ]
  },
  {
   "cell_type": "code",
   "execution_count": null,
   "id": "1ffdeabc",
   "metadata": {},
   "outputs": [],
   "source": [
    "os.getcwd()  # it will return the current working directory"
   ]
  },
  {
   "cell_type": "code",
   "execution_count": 6,
   "id": "25c311ce",
   "metadata": {},
   "outputs": [
    {
     "name": "stdout",
     "output_type": "stream",
     "text": [
      "path exit None\n"
     ]
    }
   ],
   "source": [
    "path=r\"c:\\\\Users\\\\nanus\\\\OneDrive\\\\Desktop\\\\DS 1st JUly\\\\OS\"\n",
    "path=os.environ.get(path)\n",
    "print(\"path exit\",path)   # it will return the environment variable for the specified path"
   ]
  },
  {
   "cell_type": "code",
   "execution_count": 7,
   "id": "60bd9cea",
   "metadata": {},
   "outputs": [
    {
     "data": {
      "text/plain": [
       "0"
      ]
     },
     "execution_count": 7,
     "metadata": {},
     "output_type": "execute_result"
    }
   ],
   "source": [
    "os.system(\"path\")  # it will return the environment variable for the specified path"
   ]
  },
  {
   "cell_type": "code",
   "execution_count": 8,
   "id": "e8e3ea12",
   "metadata": {},
   "outputs": [
    {
     "data": {
      "text/plain": [
       "True"
      ]
     },
     "execution_count": 8,
     "metadata": {},
     "output_type": "execute_result"
    }
   ],
   "source": [
    "path=r\"c:\\\\Users\\\\nanus\\\\OneDrive\\\\Desktop\\\\DS 1st JUly\\\\OS\\\\os.ipynb\"\n",
    "os.path.isfile(path)   # it will return True if the path is a file, otherwise False"
   ]
  },
  {
   "cell_type": "code",
   "execution_count": 9,
   "id": "41d98a87",
   "metadata": {},
   "outputs": [
    {
     "data": {
      "text/plain": [
       "True"
      ]
     },
     "execution_count": 9,
     "metadata": {},
     "output_type": "execute_result"
    }
   ],
   "source": [
    "path=r\"c:\\\\Users\\\\nanus\\\\OneDrive\\\\Desktop\\\\DS 1st JUly\\\\OS\"\n",
    "os.path.isdir(path)   # it will return True if the path is a directory, otherwise False"
   ]
  },
  {
   "cell_type": "code",
   "execution_count": null,
   "id": "151a642b",
   "metadata": {},
   "outputs": [],
   "source": [
    "path1=r\"c:\\\\Users\\\\nanus\\\\OneDrive\"\n",
    "path2=r\"Desktop\\\\DS 1st JUly\\\\OS\"\n",
    "complete=os.path.join(path1,path2)\n",
    "print(complete)\n",
    "oslist=os.listdir(complete)\n",
    "print(oslist)   # it will return a list of all files and directories in the specified path"
   ]
  },
  {
   "cell_type": "code",
   "execution_count": 4,
   "id": "f58e6d15",
   "metadata": {},
   "outputs": [
    {
     "name": "stdout",
     "output_type": "stream",
     "text": [
      "size of the file(in bytes) is: 8970\n"
     ]
    }
   ],
   "source": [
    "path=r\"c:\\Users\\nanus\\OneDrive\\Desktop\\DS 1st JUly\\OS\\\\os.ipynb\"\n",
    "size=os.path.getsize(path)\n",
    "print(\"size of the file(in bytes) is:\",size)   # it will return the size of the file in bytes"
   ]
  },
  {
   "cell_type": "code",
   "execution_count": null,
   "id": "4da356b3",
   "metadata": {},
   "outputs": [],
   "source": [
    "print(\"before dir\",os.getcwd())\n",
    "os.chdir(r\"c:\\Users\\nanus\\OneDrive\\Desktop\\DS 1st JUly\\Python\")  # chdir() is a method that changes the current working directory to the specified path\n",
    "print(\"after dir\",os.getcwd())"
   ]
  },
  {
   "cell_type": "code",
   "execution_count": null,
   "id": "e375a4fd",
   "metadata": {},
   "outputs": [],
   "source": []
  }
 ],
 "metadata": {
  "kernelspec": {
   "display_name": "Python 3",
   "language": "python",
   "name": "python3"
  },
  "language_info": {
   "codemirror_mode": {
    "name": "ipython",
    "version": 3
   },
   "file_extension": ".py",
   "mimetype": "text/x-python",
   "name": "python",
   "nbconvert_exporter": "python",
   "pygments_lexer": "ipython3",
   "version": "3.13.5"
  }
 },
 "nbformat": 4,
 "nbformat_minor": 5
}
