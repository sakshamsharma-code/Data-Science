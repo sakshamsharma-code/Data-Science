{
 "cells": [
  {
   "cell_type": "markdown",
   "id": "8651822f",
   "metadata": {},
   "source": [
    "# ATM "
   ]
  },
  {
   "cell_type": "code",
   "execution_count": null,
   "id": "11dd6f46",
   "metadata": {},
   "outputs": [],
   "source": [
    "class ATM:\n",
    "    def __init__(self, account_number, name, pin, balance=0):\n",
    "        self.account_number = account_number\n",
    "        self.name = name\n",
    "        self.pin = pin\n",
    "        self.balance = balance\n",
    "\n",
    "    def authenticate(self):\n",
    "        enteredPin = input(\"Enter your PIN: \")\n",
    "        if enteredPin == self.pin:\n",
    "            print(\"Authentication successful!\\n\")\n",
    "            return True\n",
    "        else:\n",
    "            print(\"Incorrect PIN. Access denied.\\n\")\n",
    "            return False\n",
    "\n",
    "    def checkBalance(self):\n",
    "        print(f\"Available Balance: {self.balance}\\n\")\n",
    "\n",
    "    def deposit(self, amount):\n",
    "        if amount > 0:\n",
    "            self.balance += amount\n",
    "            print(\"deposited successfully:\\n\")\n",
    "        else:\n",
    "            print(\"Invalid deposit amount.\\n\")\n",
    "\n",
    "    def withdraw(self, amount):\n",
    "        if amount <= 0:\n",
    "            print(\"Invalid withdrawal amount.\\n\")\n",
    "        elif amount > self.balance:\n",
    "            print(\"Insufficient balance.\\n\")\n",
    "        else:\n",
    "            self.balance -= amount\n",
    "            print(\"amout withdrawn successfully.\\n\")\n",
    "\n",
    "    def options(self):\n",
    "        while True:\n",
    "            print(\"1. Check Balance\")\n",
    "            print(\"2. Deposit\")\n",
    "            print(\"3. Withdraw\")\n",
    "            print(\"4. Exit\")\n",
    "            choice = input(\"Choose an option (1-4): \")\n",
    "\n",
    "            if choice == '1':\n",
    "                self.checkBalance()\n",
    "            elif choice == '2':\n",
    "                amt = float(input(\"Enter amount to deposit: \"))\n",
    "                self.deposit(amt)\n",
    "            elif choice == '3':\n",
    "                amt = float(input(\"Enter amount to withdraw:\"))\n",
    "                self.withdraw(amt)\n",
    "            elif choice == '4':\n",
    "                print(\"Thank you\")\n",
    "                break\n",
    "            else:\n",
    "                print(\"Invalid option. Try again.\\n\")\n",
    "\n",
    "\n",
    "custm = ATM(\"1234567890\", \"Saksham\", \"5858\",balance=100000)\n",
    "\n",
    "if custm.authenticate():\n",
    "    custm.options()\n"
   ]
  }
 ],
 "metadata": {
  "kernelspec": {
   "display_name": "Python 3",
   "language": "python",
   "name": "python3"
  },
  "language_info": {
   "codemirror_mode": {
    "name": "ipython",
    "version": 3
   },
   "file_extension": ".py",
   "mimetype": "text/x-python",
   "name": "python",
   "nbconvert_exporter": "python",
   "pygments_lexer": "ipython3",
   "version": "3.13.5"
  }
 },
 "nbformat": 4,
 "nbformat_minor": 5
}
