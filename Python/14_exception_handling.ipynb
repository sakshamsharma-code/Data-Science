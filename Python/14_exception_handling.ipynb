{
 "cells": [
  {
   "cell_type": "markdown",
   "id": "c9ed2650",
   "metadata": {},
   "source": [
    "# Exception Handling"
   ]
  },
  {
   "cell_type": "code",
   "execution_count": 1,
   "id": "a4f1c887",
   "metadata": {},
   "outputs": [],
   "source": [
    "try:  \n",
    "    pass   # main code\n",
    "except:\n",
    "    pass  # error handling \n",
    "else:\n",
    "    pass   # multiple error \n",
    "finally:\n",
    "    pass  # koi code na chale , m to fir bhi chalunga"
   ]
  },
  {
   "cell_type": "code",
   "execution_count": 2,
   "id": "2da66242",
   "metadata": {},
   "outputs": [
    {
     "name": "stdout",
     "output_type": "stream",
     "text": [
      "1\n"
     ]
    }
   ],
   "source": [
    "try:\n",
    "    a=int(input(\"enter 1st number\"))\n",
    "    b=int(input(\"enter 2nd number\"))\n",
    "    print(a*b)\n",
    "except:\n",
    "    print(\"invalid input\")"
   ]
  },
  {
   "cell_type": "markdown",
   "id": "2bb74776",
   "metadata": {},
   "source": [
    "# task 1\n",
    "#### how many type of error are there in python also give example for each"
   ]
  },
  {
   "cell_type": "code",
   "execution_count": 3,
   "id": "938b1679",
   "metadata": {},
   "outputs": [
    {
     "name": "stdout",
     "output_type": "stream",
     "text": [
      "1\n"
     ]
    }
   ],
   "source": [
    "try:\n",
    "    a=int(input(\"enter 1st number\"))\n",
    "    b=int(input(\"enter 2nd number\"))\n",
    "    print(a*b)\n",
    "except ValueError as e:   # diffferent data type error then demanded\n",
    "    print(\"invalid input\",e)"
   ]
  },
  {
   "cell_type": "code",
   "execution_count": 4,
   "id": "9a311689",
   "metadata": {},
   "outputs": [
    {
     "name": "stdout",
     "output_type": "stream",
     "text": [
      "1.0\n"
     ]
    }
   ],
   "source": [
    "try:\n",
    "    a=int(input(\"enter 1st number\"))\n",
    "    b=int(input(\"enter 2nd number\"))\n",
    "    print(a/b)\n",
    "except ZeroDivisionError as e:   # division by zero error\n",
    "    print(e)                            # as = alias(nickname)"
   ]
  },
  {
   "cell_type": "code",
   "execution_count": 5,
   "id": "d2baab31",
   "metadata": {},
   "outputs": [
    {
     "name": "stdout",
     "output_type": "stream",
     "text": [
      "1.0\n"
     ]
    }
   ],
   "source": [
    "try:\n",
    "    a=int(input(\"enter 1st number\"))\n",
    "    b=int(input(\"enter 2nd number\"))\n",
    "    print(a/b)\n",
    "except Exception as e:  # used to handle all types of errors\n",
    "    print(e)"
   ]
  },
  {
   "cell_type": "code",
   "execution_count": 8,
   "id": "d04d2844",
   "metadata": {},
   "outputs": [
    {
     "name": "stdout",
     "output_type": "stream",
     "text": [
      "division by zero\n",
      "m to chalunga\n"
     ]
    }
   ],
   "source": [
    "try:\n",
    "    a=int(input(\"enter 1st number\"))\n",
    "    b=int(input(\"enter 2nd number\"))\n",
    "    print(a/b)\n",
    "except Exception as e:  \n",
    "    print(e)                  \n",
    "else:\n",
    "    print(\"no error\")\n",
    "    print(a*b)\n",
    "finally:\n",
    "    print(\"m to chalunga\")"
   ]
  },
  {
   "cell_type": "code",
   "execution_count": 10,
   "id": "3542e15b",
   "metadata": {},
   "outputs": [
    {
     "name": "stdout",
     "output_type": "stream",
     "text": [
      "final result is :  0.5\n",
      "thanks for using our service\n"
     ]
    }
   ],
   "source": [
    "try:\n",
    "    num1=int(input(\"enter a mumber\"))\n",
    "    num2=int(input(\"enter a mumber\"))\n",
    "    result=num1/num2\n",
    "except ZeroDivisionError as e:\n",
    "    print(e)\n",
    "except ValueError as e:\n",
    "    print(e)\n",
    "except Exception as e:\n",
    "    print(e)\n",
    "else:\n",
    "    print(\"final result is : \",result)\n",
    "finally:\n",
    "   print(\"thanks for using our service\")"
   ]
  }
 ],
 "metadata": {
  "kernelspec": {
   "display_name": "Python 3",
   "language": "python",
   "name": "python3"
  },
  "language_info": {
   "codemirror_mode": {
    "name": "ipython",
    "version": 3
   },
   "file_extension": ".py",
   "mimetype": "text/x-python",
   "name": "python",
   "nbconvert_exporter": "python",
   "pygments_lexer": "ipython3",
   "version": "3.13.5"
  }
 },
 "nbformat": 4,
 "nbformat_minor": 5
}
