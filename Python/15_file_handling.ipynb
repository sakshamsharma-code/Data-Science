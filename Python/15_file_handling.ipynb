{
 "cells": [
  {
   "cell_type": "markdown",
   "id": "0a358b0f",
   "metadata": {},
   "source": [
    "# File Handling"
   ]
  },
  {
   "cell_type": "markdown",
   "id": "f83d757b",
   "metadata": {},
   "source": [
    "### *File handling* \n",
    "\n",
    "| Mode   | Description                                                  |\n",
    "| ------ | ------------------------------------------------------------ |\n",
    "| \"r\"  | Read mode (default) - error if file doesn't exist             |\n",
    "| \"w\"  | Write mode - creates a file if not exist, overwrites existing |\n",
    "| \"a\"  | Append mode - adds content to end of file                     |\n",
    "| \"x\"  | Create mode -error if file already exists                    | "
   ]
  },
  {
   "cell_type": "code",
   "execution_count": 1,
   "id": "7054d634",
   "metadata": {},
   "outputs": [],
   "source": [
    "file=open('demo.txt','r')    ##### r for read and demo.txt is the file name\n",
    "file.read()   ## file ko read krne k liye\n",
    "file.close()   ## file ko close krne k liye\\"
   ]
  },
  {
   "cell_type": "code",
   "execution_count": 21,
   "id": "38d2a730",
   "metadata": {},
   "outputs": [],
   "source": [
    "file=open('demo.txt','r')\n",
    "file.readline()     ### read 1st line \n",
    "file.close()"
   ]
  },
  {
   "cell_type": "code",
   "execution_count": 22,
   "id": "38b3fd9e",
   "metadata": {},
   "outputs": [],
   "source": [
    "file=open('demo.txt','r')\n",
    "# file.readlines()     ### read lines \n",
    "file.close()"
   ]
  },
  {
   "cell_type": "code",
   "execution_count": 19,
   "id": "05010a29",
   "metadata": {},
   "outputs": [],
   "source": [
    "file=open('demo.txt','w')    #  overwrite the file\n",
    "# file.read()\n",
    "file.write(\"or bhai k haal h\")\n",
    "file.close()"
   ]
  },
  {
   "cell_type": "code",
   "execution_count": 18,
   "id": "4bc38159",
   "metadata": {},
   "outputs": [],
   "source": [
    "file=open('demo.txt','r')   \n",
    "file.read()   \n",
    "file.close()"
   ]
  },
  {
   "cell_type": "code",
   "execution_count": 16,
   "id": "440da257",
   "metadata": {},
   "outputs": [],
   "source": [
    "#### append mode \n",
    "file=open('demo.txt','r')    ##### r for read and demo.txt is the file name\n",
    "file.read()   ## file ko read krne k liye\n",
    "file.close()"
   ]
  },
  {
   "cell_type": "code",
   "execution_count": null,
   "id": "1c5c382a",
   "metadata": {},
   "outputs": [],
   "source": [
    "file=open('demo.txt','a')  \n",
    "file.write(\"\\nor bhai python pdh le\") \n",
    "file.close()"
   ]
  },
  {
   "cell_type": "code",
   "execution_count": 15,
   "id": "17effec7",
   "metadata": {},
   "outputs": [],
   "source": [
    "file=open('demo.txt','r')   \n",
    "file.read() \n",
    "file.close() "
   ]
  },
  {
   "cell_type": "code",
   "execution_count": 23,
   "id": "b89f0b1e",
   "metadata": {},
   "outputs": [],
   "source": [
    "file=open('text.txt','a')   # agr file nhi milti to create kr dega, or agr pahle se h to add kr dega\n",
    "file.write(\"agr file nhi milti to create kr dega, or agr pahle se h to add kr dega\")\n",
    "file.close()\n"
   ]
  },
  {
   "cell_type": "code",
   "execution_count": 14,
   "id": "767ab287",
   "metadata": {},
   "outputs": [],
   "source": [
    "file=open('text.txt','r')\n",
    "file.read()  \n",
    "file.close()"
   ]
  },
  {
   "cell_type": "code",
   "execution_count": 8,
   "id": "c71fee3a",
   "metadata": {},
   "outputs": [],
   "source": [
    "### create mode\n",
    "file=open(\"demo.txt\",'r')\n",
    "file.read()\n",
    "file.close()"
   ]
  },
  {
   "cell_type": "code",
   "execution_count": 11,
   "id": "b6431fc3",
   "metadata": {},
   "outputs": [],
   "source": [
    "file=open(\"new1.txt\",'x')\n",
    "file.write(\"ye nayi file h\")\n",
    "file.close()\n",
    "# file.read()"
   ]
  },
  {
   "cell_type": "code",
   "execution_count": 13,
   "id": "910963ba",
   "metadata": {},
   "outputs": [],
   "source": [
    "file=open(\"new1.txt\",'r')\n",
    "file.read()\n",
    "file.close()"
   ]
  }
 ],
 "metadata": {
  "kernelspec": {
   "display_name": "Python 3",
   "language": "python",
   "name": "python3"
  },
  "language_info": {
   "codemirror_mode": {
    "name": "ipython",
    "version": 3
   },
   "file_extension": ".py",
   "mimetype": "text/x-python",
   "name": "python",
   "nbconvert_exporter": "python",
   "pygments_lexer": "ipython3",
   "version": "3.13.5"
  }
 },
 "nbformat": 4,
 "nbformat_minor": 5
}
