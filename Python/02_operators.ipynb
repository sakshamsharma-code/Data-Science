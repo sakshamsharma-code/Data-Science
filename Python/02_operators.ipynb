{
 "cells": [
  {
   "cell_type": "markdown",
   "id": "e3bffdcf",
   "metadata": {},
   "source": [
    "# operators"
   ]
  },
  {
   "cell_type": "code",
   "execution_count": null,
   "id": "9fa33f8f",
   "metadata": {},
   "outputs": [
    {
     "name": "stdout",
     "output_type": "stream",
     "text": [
      "7\n"
     ]
    }
   ],
   "source": [
    "#  Arithmatic Operators\n",
    "a=4\n",
    "b=3\n",
    "c=a+b\n",
    "print(c)\n",
    "print(\"9 % 2 =\", 9 % 2)     # Output: 1\n",
    "print(\"2 ** 3 =\", 2 ** 3)   # Output: 8"
   ]
  },
  {
   "cell_type": "code",
   "execution_count": 2,
   "id": "8eadd0a6",
   "metadata": {},
   "outputs": [
    {
     "name": "stdout",
     "output_type": "stream",
     "text": [
      "True\n"
     ]
    }
   ],
   "source": [
    "# Logical Operators\n",
    "e=True or False \n",
    "print(e) "
   ]
  },
  {
   "cell_type": "code",
   "execution_count": 3,
   "id": "10efe12c",
   "metadata": {},
   "outputs": [
    {
     "name": "stdout",
     "output_type": "stream",
     "text": [
      "False\n"
     ]
    }
   ],
   "source": [
    "# Comparison Operators >>>>> always returns a boolean value\n",
    "d=5<4   #>,<>=,<=,==,!=\n",
    "print(d) # prints True if 5 is less than 4, otherwise False"
   ]
  },
  {
   "cell_type": "code",
   "execution_count": 4,
   "id": "d6999c32",
   "metadata": {},
   "outputs": [
    {
     "name": "stdout",
     "output_type": "stream",
     "text": [
      "2\n",
      "9\n",
      "6\n"
     ]
    }
   ],
   "source": [
    "#  Assignment Operators\n",
    "a=4-2 # assigns the value of 4-2 to a\n",
    "print(a)\n",
    "b=6\n",
    "b+=3 # increament the value of b by 3 and assigns it to b\n",
    "print(b)\n",
    "b-=3 # decreament the value of b by 3 and assigns it to b\n",
    "print(b)"
   ]
  },
  {
   "cell_type": "code",
   "execution_count": 5,
   "id": "782758d1",
   "metadata": {},
   "outputs": [
    {
     "name": "stdout",
     "output_type": "stream",
     "text": [
      "True or False is  True\n",
      "True or True is  True\n",
      "False or True is  True\n",
      "False or False is  False\n"
     ]
    }
   ],
   "source": [
    "# truth table of or\n",
    "print(\"True or False is \",True or False)\n",
    "print(\"True or True is \",True or True)\n",
    "print(\"False or True is \",False or True)\n",
    "print(\"False or False is \",False or False)"
   ]
  },
  {
   "cell_type": "code",
   "execution_count": 6,
   "id": "2025a5e3",
   "metadata": {},
   "outputs": [
    {
     "name": "stdout",
     "output_type": "stream",
     "text": [
      "True and False is  False\n",
      "True and True is  True\n",
      "False and True is  False\n",
      "False and False is  False\n"
     ]
    }
   ],
   "source": [
    "# truth table of and\n",
    "print(\"True and False is \",True and False)\n",
    "print(\"True and True is \",True and True)\n",
    "print(\"False and True is \",False and True)\n",
    "print(\"False and False is \",False and False)"
   ]
  },
  {
   "cell_type": "code",
   "execution_count": 7,
   "id": "3265f384",
   "metadata": {},
   "outputs": [
    {
     "name": "stdout",
     "output_type": "stream",
     "text": [
      "True\n",
      "False\n"
     ]
    }
   ],
   "source": [
    "print(not(False)) # prints True, not operator negates the value\n",
    "print(not(True))  # prints False, not operator negates the value"
   ]
  },
  {
   "cell_type": "code",
   "execution_count": null,
   "id": "98a4ce15",
   "metadata": {},
   "outputs": [
    {
     "name": "stdout",
     "output_type": "stream",
     "text": [
      "True\n",
      "True\n",
      "True\n",
      "True\n",
      "False\n"
     ]
    }
   ],
   "source": [
    "#  difference between = and == and is\n",
    "# = is an assignment operator\n",
    "a = 10\n",
    "name = \"Saksham\"\n",
    "# == is a comparison operator that checks if two values are equal\n",
    "x = 10\n",
    "y = 10\n",
    "print(x == y)  # True — because values are equal\n",
    "# Identity Operators\n",
    "# is checks if two variables point to the same object in memory\n",
    "a = 5\n",
    "b = 5\n",
    "\n",
    "print(a == b)  # True\n",
    "print(a is b)  # True (for small numbers Python reuses memory)\n",
    "\n",
    "# But for big objects like lists or strings:\n",
    "x = [10]\n",
    "y = [10]\n",
    "\n",
    "print(x == y)  # True\n",
    "print(x is y)  # False\n"
   ]
  },
  {
   "cell_type": "code",
   "execution_count": null,
   "id": "fb8c801f",
   "metadata": {},
   "outputs": [],
   "source": [
    "# Membership Operators>>>>>>>>>>>>>>>>>>>>>>>>>>>\n",
    "# difference between in and not in\n",
    "# in checks if an element is present in a collection (like a list or string)\n",
    "fruits = [\"apple\", \"banana\", \"mango\"]\n",
    "print(\"apple\" in fruits)     # True\n",
    "print(\"orange\" in fruits)    # False\n",
    "\n",
    "colors = [\"red\", \"blue\", \"green\"]\n",
    "print(\"yellow\" not in colors)  # True\n",
    "print(\"red\" not in colors)     # False\n"
   ]
  },
  {
   "cell_type": "code",
   "execution_count": null,
   "id": "1ce50ad7",
   "metadata": {},
   "outputs": [],
   "source": [
    "# 3. Bitwise Operators\n",
    "a = 6   # Binary: 0110\n",
    "b = 3   # Binary: 0011\n",
    "\n",
    "print(\"\\nBitwise Operator Examples:\")\n",
    "print(\"6 & 3 =\", a & b)     # AND → 2\n",
    "print(\"6 | 3 =\", a | b)     # OR → 7\n",
    "print(\"6 ^ 3 =\", a ^ b)     # XOR → 5\n",
    "print(\"~6 =\", ~a)           # NOT → -7\n",
    "print(\"6 << 1 =\", a << 1)   # Left Shift → 12\n",
    "print(\"6 >> 1 =\", a >> 1)   # Right Shift → 3"
   ]
  }
 ],
 "metadata": {
  "kernelspec": {
   "display_name": "Python 3",
   "language": "python",
   "name": "python3"
  },
  "language_info": {
   "codemirror_mode": {
    "name": "ipython",
    "version": 3
   },
   "file_extension": ".py",
   "mimetype": "text/x-python",
   "name": "python",
   "nbconvert_exporter": "python",
   "pygments_lexer": "ipython3",
   "version": "3.13.5"
  }
 },
 "nbformat": 4,
 "nbformat_minor": 5
}
