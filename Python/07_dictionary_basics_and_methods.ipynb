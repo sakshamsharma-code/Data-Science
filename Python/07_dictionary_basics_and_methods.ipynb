{
 "cells": [
  {
   "cell_type": "markdown",
   "id": "6d6235c3",
   "metadata": {},
   "source": [
    "\n",
    "# Dictionary Basics and Methods\n"
   ]
  },
  {
   "cell_type": "code",
   "execution_count": 2,
   "id": "2be52a49",
   "metadata": {},
   "outputs": [
    {
     "name": "stdout",
     "output_type": "stream",
     "text": [
      "my first dictionary  {'name': 'saksham', 'class': '3rd year', 'roll number': '23EJCIT139', 'address': 'jaipur'}\n",
      "length of dictionary  4\n",
      "type of dictionary  <class 'dict'>\n",
      "saksham\n",
      "3rd year\n",
      "23EJCIT139\n",
      "jaipur\n"
     ]
    }
   ],
   "source": [
    "# Dictionary Basics and Methods\n",
    "my_dict = {\"name\": \"saksham\", \"class\": \"3rd year\", \"roll number\": \"23EJCIT139\", \"address\": \"jaipur\"}    \n",
    "print(\"my first dictionary \", my_dict)\n",
    "print(\"length of dictionary \", len(my_dict))\n",
    "print(\"type of dictionary \", type(my_dict))\n",
    "print(my_dict['name'])\n",
    "print(my_dict['class'])\n",
    "print(my_dict['roll number'])\n",
    "print(my_dict['address'])"
   ]
  },
  {
   "cell_type": "code",
   "execution_count": 3,
   "id": "16082e8b",
   "metadata": {},
   "outputs": [
    {
     "name": "stdout",
     "output_type": "stream",
     "text": [
      "{'name': 'saksham', 'class': '3rd year', 'roll number': '23EJCIT139', 'address': 'new jaipur'}\n",
      "{'name': 'rakesh', 'class': '3rd year', 'roll number': '23EJCIT139', 'address': 'new jaipur'}\n",
      "{'name': 'rakesh', 'class': '3rd year', 'roll number': '23EJCIT139', 'address': 'new jaipur', 'branch': 'CSE', 'age': '20'}\n"
     ]
    }
   ],
   "source": [
    "# Adding new key-value pairs\n",
    "my_dict['address'] = \"new jaipur\"\n",
    "print(my_dict)\n",
    "my_dict['name'] = \"rakesh\" \n",
    "print(my_dict)\n",
    "my_dict['branch'] = \"IT\"\n",
    "my_dict.update({'age': '20'})\n",
    "my_dict.update({'branch': 'CSE'})\n",
    "print(my_dict)"
   ]
  },
  {
   "cell_type": "code",
   "execution_count": 4,
   "id": "400fb92b",
   "metadata": {},
   "outputs": [
    {
     "name": "stdout",
     "output_type": "stream",
     "text": [
      "rakesh\n",
      "CSE\n",
      "20\n",
      "new jaipur\n",
      "23EJCIT139\n"
     ]
    }
   ],
   "source": [
    "# Accessing values using get method\n",
    "print(my_dict.get(\"name\"))\n",
    "print(my_dict.get(\"branch\"))\n",
    "print(my_dict.get(\"age\"))\n",
    "print(my_dict.get(\"address\"))\n",
    "print(my_dict.get(\"roll number\"))"
   ]
  },
  {
   "cell_type": "code",
   "execution_count": 5,
   "id": "63f7459d",
   "metadata": {},
   "outputs": [
    {
     "name": "stdout",
     "output_type": "stream",
     "text": [
      "rakesh\n",
      "CSE\n",
      "20\n",
      "new jaipur\n",
      "23EJCIT139\n"
     ]
    }
   ],
   "source": [
    "# access using [] operator\n",
    "print(my_dict[\"name\"]) # Saksham\n",
    "print(my_dict[\"branch\"]) # IT\n",
    "print(my_dict[\"age\"]) # 20\n",
    "print(my_dict[\"address\"]) # jaipur\n",
    "print(my_dict[\"roll number\"]) # 23EJCIT139"
   ]
  },
  {
   "cell_type": "code",
   "execution_count": 6,
   "id": "af5554df",
   "metadata": {},
   "outputs": [
    {
     "name": "stdout",
     "output_type": "stream",
     "text": [
      "these are keys  dict_keys(['name', 'class', 'roll number', 'address', 'branch', 'age'])\n",
      "these are values dict_values(['rakesh', '3rd year', '23EJCIT139', 'new jaipur', 'CSE', '20'])\n",
      "these are items  dict_items([('name', 'rakesh'), ('class', '3rd year'), ('roll number', '23EJCIT139'), ('address', 'new jaipur'), ('branch', 'CSE'), ('age', '20')])\n"
     ]
    }
   ],
   "source": [
    "# Accessing keys, values, and items\n",
    "print(\"these are keys \", my_dict.keys())\n",
    "print(\"these are values\", my_dict.values())\n",
    "print(\"these are items \", my_dict.items())"
   ]
  },
  {
   "cell_type": "code",
   "execution_count": 7,
   "id": "290b1df8",
   "metadata": {},
   "outputs": [
    {
     "name": "stdout",
     "output_type": "stream",
     "text": [
      "copied dictionary  {'name': 'rakesh', 'class': '3rd year', 'roll number': '23EJCIT139', 'address': 'new jaipur', 'branch': 'CSE', 'age': '20'}\n",
      "None\n"
     ]
    }
   ],
   "source": [
    "# copying and clearing dictionary\n",
    "cpyDict = my_dict.copy()\n",
    "print(\"copied dictionary \", cpyDict)\n",
    "print(my_dict.clear())"
   ]
  }
 ],
 "metadata": {
  "kernelspec": {
   "display_name": "Python 3",
   "language": "python",
   "name": "python3"
  },
  "language_info": {
   "codemirror_mode": {
    "name": "ipython",
    "version": 3
   },
   "file_extension": ".py",
   "mimetype": "text/x-python",
   "name": "python",
   "nbconvert_exporter": "python",
   "pygments_lexer": "ipython3",
   "version": "3.13.5"
  }
 },
 "nbformat": 4,
 "nbformat_minor": 5
}
