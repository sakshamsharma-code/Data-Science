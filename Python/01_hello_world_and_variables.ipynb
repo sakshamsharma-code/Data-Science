{
 "cells": [
  {
   "cell_type": "markdown",
   "id": "36cf1033",
   "metadata": {},
   "source": [
    "\n",
    "# Hello World and Variables\n",
    "\n"
   ]
  },
  {
   "cell_type": "code",
   "execution_count": null,
   "id": "49a66f0f",
   "metadata": {},
   "outputs": [],
   "source": [
    "print(\"hello world\")"
   ]
  },
  {
   "cell_type": "markdown",
   "id": "ec746b1f",
   "metadata": {},
   "source": [
    "# variable rule"
   ]
  },
  {
   "cell_type": "code",
   "execution_count": 1,
   "id": "d8befc3c",
   "metadata": {},
   "outputs": [
    {
     "name": "stdout",
     "output_type": "stream",
     "text": [
      "22\n",
      "23\n"
     ]
    }
   ],
   "source": [
    "a = \"hello\"\n",
    "num = 10\n",
    "# @=10 not allowed\n",
    "# 2=2 not allowed\n",
    "Age = 22\n",
    "age = 23\n",
    "print(Age)\n",
    "print(age)\n",
    "# break=22 not allowed because break is a keyword in python\n",
    "# print=22 not allowed because print is a built-in function in python\n",
    "# print(print)"
   ]
  }
 ],
 "metadata": {
  "kernelspec": {
   "display_name": ".venv",
   "language": "python",
   "name": "python3"
  },
  "language_info": {
   "codemirror_mode": {
    "name": "ipython",
    "version": 3
   },
   "file_extension": ".py",
   "mimetype": "text/x-python",
   "name": "python",
   "nbconvert_exporter": "python",
   "pygments_lexer": "ipython3",
   "version": "3.13.5"
  }
 },
 "nbformat": 4,
 "nbformat_minor": 5
}
