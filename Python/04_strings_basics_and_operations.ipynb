{
 "cells": [
  {
   "cell_type": "markdown",
   "id": "c87e5318",
   "metadata": {},
   "source": [
    "\n",
    "# Strings Basics and Operations\n"
   ]
  },
  {
   "cell_type": "code",
   "execution_count": null,
   "id": "874fe21e",
   "metadata": {},
   "outputs": [],
   "source": [
    "# string and basic operations\n",
    "name = \"Saksham\"\n",
    "print(name)\n",
    "print(\"my name is\", name)\n",
    "print(type(name))\n",
    "print(\"len of name is\", len(name))"
   ]
  },
  {
   "cell_type": "code",
   "execution_count": null,
   "id": "5b49af43",
   "metadata": {},
   "outputs": [],
   "source": [
    "# indexing \n",
    "print(name[0])\n",
    "print(name[2])\n",
    "print(name[len(name)-1])"
   ]
  },
  {
   "cell_type": "code",
   "execution_count": null,
   "id": "f5804271",
   "metadata": {},
   "outputs": [],
   "source": [
    "# slicing\n",
    "print(name[0:3])"
   ]
  },
  {
   "cell_type": "code",
   "execution_count": null,
   "id": "eac437a4",
   "metadata": {},
   "outputs": [],
   "source": [
    "# reverse string\n",
    "new_name = name[::-1]\n",
    "print(new_name)"
   ]
  },
  {
   "cell_type": "code",
   "execution_count": null,
   "id": "7668eca0",
   "metadata": {},
   "outputs": [],
   "source": [
    "# operations\n",
    "name = \"saksham\"\n",
    "last = \"SHARMA\"\n",
    "print(name.upper())\n",
    "print(last.lower())\n",
    "print(name.count(\"s\"))\n",
    "print(name.title())\n",
    "print(name.capitalize())\n",
    "print(name + last)\n",
    "print(name + \" \" + last)"
   ]
  }
 ],
 "metadata": {
  "language_info": {
   "name": "python"
  }
 },
 "nbformat": 4,
 "nbformat_minor": 5
}
