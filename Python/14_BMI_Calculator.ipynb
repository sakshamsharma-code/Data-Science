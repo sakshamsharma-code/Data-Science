{
 "cells": [
  {
   "cell_type": "markdown",
   "id": "45a38b1b",
   "metadata": {},
   "source": [
    "# BMI Calculator"
   ]
  },
  {
   "cell_type": "code",
   "execution_count": null,
   "id": "18dc6e7c",
   "metadata": {},
   "outputs": [],
   "source": [
    "class BMICalculator:\n",
    "    def __init__(self, name, weight, height):\n",
    "        self.name = name            # in string\n",
    "        self.weight = weight        # in kilograms\n",
    "        self.height = height        # in meters\n",
    "\n",
    "    def BMIcal(self):\n",
    "        bmi = self.weight / (self.height ** 2)\n",
    "        return round(bmi, 2)      # round off to 2 decimal places\n",
    "\n",
    "    def yourCategory(self):\n",
    "        bmi = self.BMIcal()\n",
    "        if bmi < 18.5:\n",
    "            category = \"Underweight\"\n",
    "        elif 18.5 <= bmi < 25:\n",
    "            category = \"Normal weight\"\n",
    "        elif 25 <= bmi < 30:\n",
    "            category = \"Overweight\"\n",
    "        else:\n",
    "            category = \"Obese\"\n",
    "        return category\n",
    "\n",
    "    def info(self):\n",
    "        bmi = self.BMIcal()\n",
    "        category = self.yourCategory()\n",
    "        print(\"Name: \",self.name)\n",
    "        print(\"Weight in kg: \",self.weight)\n",
    "        print(\"Height: \",self.height)\n",
    "        print(\"BMI: \",bmi)\n",
    "        print(\"Category: \",category)\n",
    "\n",
    "\n",
    "person = BMICalculator(\"Saksham\", 55, 1.75)\n",
    "person.info()"
   ]
  }
 ],
 "metadata": {
  "kernelspec": {
   "display_name": "Python 3",
   "language": "python",
   "name": "python3"
  },
  "language_info": {
   "codemirror_mode": {
    "name": "ipython",
    "version": 3
   },
   "file_extension": ".py",
   "mimetype": "text/x-python",
   "name": "python",
   "nbconvert_exporter": "python",
   "pygments_lexer": "ipython3",
   "version": "3.13.5"
  }
 },
 "nbformat": 4,
 "nbformat_minor": 5
}
