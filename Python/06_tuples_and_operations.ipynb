{
 "cells": [
  {
   "cell_type": "markdown",
   "id": "03f91fb3",
   "metadata": {},
   "source": [
    "# Tuples and Operations\n"
   ]
  },
  {
   "cell_type": "code",
   "execution_count": null,
   "id": "dc8e7dcd",
   "metadata": {},
   "outputs": [],
   "source": [
    "# Tuples and Operations\n",
    "tpl = (1,2,3,4,5,585,5,\"saksham\",2.3)\n",
    "print(\"my first tuple - \", tpl)\n",
    "print(\"length of the tuple - \", len(tpl))\n",
    "print(\"type of the tuple - \", type(tpl))\n",
    "print(tpl[0])\n",
    "print(tpl[2])\n",
    "print(tpl[0:6])\n",
    "print(tpl.count(5))"
   ]
  },
  {
   "cell_type": "markdown",
   "id": "889ec69c",
   "metadata": {},
   "source": [
    "# task"
   ]
  },
  {
   "cell_type": "code",
   "execution_count": null,
   "id": "edca14b4",
   "metadata": {},
   "outputs": [],
   "source": [
    "a = 1,2,3,4,49,40,99\n",
    "print(a)\n",
    "print(type(a))\n",
    "print(len(a))"
   ]
  },
  {
   "cell_type": "code",
   "execution_count": null,
   "id": "15ef9fb8",
   "metadata": {},
   "outputs": [],
   "source": [
    "# tuple unpacking\n",
    "a, b, c = 1, 2, 3\n",
    "print(\"tuple unpacking\")\n",
    "print(a)\n",
    "print(b)\n",
    "print(c)"
   ]
  },
  {
   "cell_type": "code",
   "execution_count": null,
   "id": "f1c97f78",
   "metadata": {},
   "outputs": [],
   "source": [
    "# tuple operations\n",
    "# max, min, sum\n",
    "tepl = (1,2,3,4,5,6,7)\n",
    "print(\"max of the tuple is \", max(tepl))\n",
    "print(\"min of the tuple is \", min(tepl))\n",
    "print(\"sum of the tuple is \", sum(tepl))"
   ]
  }
 ],
 "metadata": {
  "language_info": {
   "name": "python"
  }
 },
 "nbformat": 4,
 "nbformat_minor": 5
}
