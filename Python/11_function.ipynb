{
 "cells": [
  {
   "cell_type": "markdown",
   "id": "74b4478e",
   "metadata": {},
   "source": [
    "# function are of 2 types\n",
    "\n",
    "## user define -- jo user bnata h\n",
    "\n",
    "## pre defined --- print,len,get etc."
   ]
  },
  {
   "cell_type": "code",
   "execution_count": 11,
   "id": "aeac7d97",
   "metadata": {},
   "outputs": [],
   "source": [
    "def function_name(): # function_name is a function definition\n",
    "    pass\n",
    "\n",
    "\n",
    "function_name()\n",
    "# function_name() is a function call"
   ]
  },
  {
   "cell_type": "code",
   "execution_count": 12,
   "id": "f0673655",
   "metadata": {},
   "outputs": [],
   "source": [
    "def function_name():\n",
    "    pass"
   ]
  },
  {
   "cell_type": "markdown",
   "id": "118b9495",
   "metadata": {},
   "source": [
    "function is a block of code"
   ]
  },
  {
   "cell_type": "code",
   "execution_count": 13,
   "id": "b526e583",
   "metadata": {},
   "outputs": [
    {
     "name": "stdout",
     "output_type": "stream",
     "text": [
      "Hello, World!\n"
     ]
    }
   ],
   "source": [
    "def display():\n",
    "    print(\"Hello, World!\")\n",
    "display()    "
   ]
  },
  {
   "cell_type": "code",
   "execution_count": 8,
   "id": "196b650d",
   "metadata": {},
   "outputs": [],
   "source": [
    "def add():\n",
    "    a = 10\n",
    "    b = 20\n",
    "    print(a+b)"
   ]
  },
  {
   "cell_type": "code",
   "execution_count": 9,
   "id": "f63898cb",
   "metadata": {},
   "outputs": [
    {
     "name": "stdout",
     "output_type": "stream",
     "text": [
      "30\n"
     ]
    }
   ],
   "source": [
    "add()"
   ]
  },
  {
   "cell_type": "markdown",
   "id": "75515670",
   "metadata": {},
   "source": [
    "# parameters"
   ]
  },
  {
   "cell_type": "code",
   "execution_count": 10,
   "id": "cbaa77af",
   "metadata": {},
   "outputs": [
    {
     "name": "stdout",
     "output_type": "stream",
     "text": [
      "40\n"
     ]
    }
   ],
   "source": [
    "def add(a,b):\n",
    "    print(a+b)\n",
    "add(10,30)    "
   ]
  },
  {
   "cell_type": "code",
   "execution_count": 3,
   "id": "56c783fd",
   "metadata": {},
   "outputs": [],
   "source": [
    "def display(name,age, address=\"jaipur\"):\n",
    "    print(f\"my name is {name} and my age is {age} and I live in {address}\")"
   ]
  },
  {
   "cell_type": "code",
   "execution_count": 4,
   "id": "92e78b90",
   "metadata": {},
   "outputs": [
    {
     "name": "stdout",
     "output_type": "stream",
     "text": [
      "my name is saksham and my age is 22 and I live in jaipur\n"
     ]
    }
   ],
   "source": [
    "display(\"saksham\",22)"
   ]
  },
  {
   "cell_type": "code",
   "execution_count": 5,
   "id": "1c8dff16",
   "metadata": {},
   "outputs": [
    {
     "name": "stdout",
     "output_type": "stream",
     "text": [
      "my name is saksham and my age is 22 and I live in kumbha marg\n"
     ]
    }
   ],
   "source": [
    "display(\"saksham\",22,\"kumbha marg\")"
   ]
  },
  {
   "cell_type": "code",
   "execution_count": null,
   "id": "4160afc4",
   "metadata": {},
   "outputs": [],
   "source": [
    "# lambda function\n",
    "# lambda >>>>> keyword\n",
    "# lambda is a anonymous functon\n",
    "# it is used to create small functions\n",
    "# it is used for short code"
   ]
  },
  {
   "cell_type": "code",
   "execution_count": 22,
   "id": "56a4cf58",
   "metadata": {},
   "outputs": [
    {
     "data": {
      "text/plain": [
       "30"
      ]
     },
     "execution_count": 22,
     "metadata": {},
     "output_type": "execute_result"
    }
   ],
   "source": [
    "add =lambda a,b:a+b\n",
    "add(10,20)"
   ]
  },
  {
   "cell_type": "code",
   "execution_count": 21,
   "id": "d1ab6221",
   "metadata": {},
   "outputs": [
    {
     "data": {
      "text/plain": [
       "100"
      ]
     },
     "execution_count": 21,
     "metadata": {},
     "output_type": "execute_result"
    }
   ],
   "source": [
    "square = lambda a:a**2\n",
    "square(10)"
   ]
  }
 ],
 "metadata": {
  "kernelspec": {
   "display_name": "Python 3",
   "language": "python",
   "name": "python3"
  },
  "language_info": {
   "codemirror_mode": {
    "name": "ipython",
    "version": 3
   },
   "file_extension": ".py",
   "mimetype": "text/x-python",
   "name": "python",
   "nbconvert_exporter": "python",
   "pygments_lexer": "ipython3",
   "version": "3.13.5"
  }
 },
 "nbformat": 4,
 "nbformat_minor": 5
}
