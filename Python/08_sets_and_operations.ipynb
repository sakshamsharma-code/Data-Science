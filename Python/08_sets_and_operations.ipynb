{
 "cells": [
  {
   "cell_type": "markdown",
   "id": "669e389e",
   "metadata": {},
   "source": [
    "\n",
    "# Sets and Operations"
   ]
  },
  {
   "cell_type": "code",
   "execution_count": 1,
   "id": "b6c569d7",
   "metadata": {},
   "outputs": [
    {
     "name": "stdout",
     "output_type": "stream",
     "text": [
      "this is my set  {1, 2, 3, 2.3, 5, 7, 8, 9, 10, 'saksham'}\n",
      "length of set  10\n",
      "type of set  <class 'set'>\n"
     ]
    }
   ],
   "source": [
    "# sets and basic operations\n",
    "myset = {1,2,3,3,5,8,7,10,9,\"saksham\",2.3}\n",
    "print(\"this is my set \", myset)\n",
    "print(\"length of set \", len(myset))\n",
    "print(\"type of set \", type(myset))"
   ]
  },
  {
   "cell_type": "code",
   "execution_count": 2,
   "id": "971eb2b8",
   "metadata": {},
   "outputs": [
    {
     "name": "stdout",
     "output_type": "stream",
     "text": [
      "union is  {1, 2, 3, 4, 5, 6, 7, 8}\n",
      "intersection is  {4, 5}\n",
      "difference is  {1, 2, 3}\n",
      "True\n"
     ]
    }
   ],
   "source": [
    "# operations on sets\n",
    "set1 = {1,2,3,4,5}\n",
    "set2 = {4,5,6,7,8}\n",
    "print(\"union is \", set1.union(set2))\n",
    "print(\"intersection is \", set1.intersection(set2))\n",
    "print(\"difference is \", set1.difference(set2))\n",
    "A = {1, 2}\n",
    "B = {1, 2, 3, 4}\n",
    "print(A.issubset(B))   # Output: True"
   ]
  },
  {
   "cell_type": "code",
   "execution_count": 3,
   "id": "0f31b58c",
   "metadata": {},
   "outputs": [
    {
     "name": "stdout",
     "output_type": "stream",
     "text": [
      "{1, 2, 3, 2.3, 5, 100, 7, 8, 9, 10, 'saksham'}\n"
     ]
    }
   ],
   "source": [
    "# Adding new key-value pairs using type casting\n",
    "lst = list(myset)\n",
    "lst.append(100)\n",
    "print(set(lst))"
   ]
  }
 ],
 "metadata": {
  "kernelspec": {
   "display_name": ".venv",
   "language": "python",
   "name": "python3"
  },
  "language_info": {
   "codemirror_mode": {
    "name": "ipython",
    "version": 3
   },
   "file_extension": ".py",
   "mimetype": "text/x-python",
   "name": "python",
   "nbconvert_exporter": "python",
   "pygments_lexer": "ipython3",
   "version": "3.13.5"
  }
 },
 "nbformat": 4,
 "nbformat_minor": 5
}
