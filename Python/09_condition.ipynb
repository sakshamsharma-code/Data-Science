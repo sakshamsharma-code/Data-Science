{
 "cells": [
  {
   "cell_type": "markdown",
   "id": "b507f8b8",
   "metadata": {},
   "source": [
    "### Condtional Statement \n",
    "* if, else, elif"
   ]
  },
  {
   "cell_type": "code",
   "execution_count": 2,
   "id": "af3765da",
   "metadata": {},
   "outputs": [
    {
     "data": {
      "text/plain": [
       "10"
      ]
     },
     "execution_count": 2,
     "metadata": {},
     "output_type": "execute_result"
    }
   ],
   "source": [
    "a=10\n",
    "a"
   ]
  },
  {
   "cell_type": "code",
   "execution_count": null,
   "id": "c0ac3401",
   "metadata": {},
   "outputs": [
    {
     "name": "stdout",
     "output_type": "stream",
     "text": [
      "x is less than 10\n"
     ]
    }
   ],
   "source": [
    "x=0\n",
    "if x<10:  ### condition\n",
    "    print(\"x is less than 10\")   #### block of code"
   ]
  },
  {
   "cell_type": "code",
   "execution_count": 4,
   "id": "4b07abf3",
   "metadata": {},
   "outputs": [
    {
     "name": "stdout",
     "output_type": "stream",
     "text": [
      "x is greater than 10\n"
     ]
    }
   ],
   "source": [
    "x=20\n",
    "if x<10:  ### condition\n",
    "    print(\"x is less than 10\")   #### block of code\n",
    "else:\n",
    "    print(\"x is greater than 10\")  ### else block"
   ]
  },
  {
   "cell_type": "code",
   "execution_count": null,
   "id": "74ede1ac",
   "metadata": {},
   "outputs": [
    {
     "name": "stdout",
     "output_type": "stream",
     "text": [
      "x is equal to 20\n"
     ]
    }
   ],
   "source": [
    "x=20\n",
    "if x<10:  ### condition\n",
    "    print(\"x is less than 10\")   #### block of code\n",
    "elif x==20:  ### elif condition to check more than one condition\n",
    "    print(\"x is equal to 20\")  #### block of code\n",
    "\n",
    "else:\n",
    "    print(\"x is greater than 10\")  ### else block"
   ]
  },
  {
   "cell_type": "markdown",
   "id": "797930c5",
   "metadata": {},
   "source": [
    "# task 1\n",
    "\n",
    "## find the largest number "
   ]
  },
  {
   "cell_type": "code",
   "execution_count": 3,
   "id": "b412beb4",
   "metadata": {},
   "outputs": [
    {
     "name": "stdout",
     "output_type": "stream",
     "text": [
      "87  is largest\n"
     ]
    }
   ],
   "source": [
    "a=int(input(\"Enter first number: \"))\n",
    "b=int(input(\"Enter second number: \"))\n",
    "c=int(input(\"Enter third number: \"))\n",
    "if a>b and a>c:\n",
    "    print(a,\" is largest\")\n",
    "elif b>a and b>c:\n",
    "    print(b,\" is largest\")  \n",
    "else:\n",
    "    print(c,\" is largest\")"
   ]
  },
  {
   "cell_type": "markdown",
   "id": "0540b7da",
   "metadata": {},
   "source": [
    "# task 2\n",
    "## find even odd"
   ]
  },
  {
   "cell_type": "code",
   "execution_count": 4,
   "id": "561b8638",
   "metadata": {},
   "outputs": [
    {
     "name": "stdout",
     "output_type": "stream",
     "text": [
      "56  is even\n"
     ]
    }
   ],
   "source": [
    "a=int(input(\"Enter a number: \"))\n",
    "\n",
    "if a%2==0:\n",
    "    print(a,\" is even\")\n",
    "else:\n",
    "    print(a,\" is odd\")"
   ]
  },
  {
   "cell_type": "markdown",
   "id": "d08b0e7e",
   "metadata": {},
   "source": [
    "# task 3\n",
    "## leap year checker"
   ]
  },
  {
   "cell_type": "code",
   "execution_count": 9,
   "id": "d43e1a7b",
   "metadata": {},
   "outputs": [
    {
     "name": "stdout",
     "output_type": "stream",
     "text": [
      "2023  is not a leap year\n"
     ]
    }
   ],
   "source": [
    "a=int(input(\"Enter year: \"))\n",
    "if a%4==0 or a%400==0:\n",
    "    print(a,\" is a leap year\")\n",
    "else:\n",
    "    print(a,\" is not a leap year\")"
   ]
  },
  {
   "cell_type": "markdown",
   "id": "f948520d",
   "metadata": {},
   "source": [
    "# task 4\n",
    "## grading system"
   ]
  },
  {
   "cell_type": "code",
   "execution_count": 10,
   "id": "3eaea39c",
   "metadata": {},
   "outputs": [
    {
     "name": "stdout",
     "output_type": "stream",
     "text": [
      "A\n"
     ]
    }
   ],
   "source": [
    "a=int(input(\"enter your marks:\"))\n",
    "if a>=90:\n",
    "    print(\"A\")\n",
    "elif a>=75 and a<=89:\n",
    "    print(\"B\")\n",
    "elif a>=60 and a<=74:\n",
    "    print(\"C\")\n",
    "else:\n",
    "    print(\"D\")"
   ]
  },
  {
   "cell_type": "markdown",
   "id": "44f54c44",
   "metadata": {},
   "source": [
    "# task 5\n",
    "## traffic light"
   ]
  },
  {
   "cell_type": "code",
   "execution_count": 3,
   "id": "fa0837ec",
   "metadata": {},
   "outputs": [
    {
     "name": "stdout",
     "output_type": "stream",
     "text": [
      "open traffic\n"
     ]
    }
   ],
   "source": [
    "a=input(\"Enter traffic light color (red, yellow, green): \").lower()\n",
    "if a==\"red\":\n",
    "    print(\"Stop\")\n",
    "elif a==\"yellow\":\n",
    "    print(\"Wait\")\n",
    "elif a==\"green\":\n",
    "    print(\"Go\")\n",
    "else:\n",
    "    print(\"open traffic\")"
   ]
  }
 ],
 "metadata": {
  "kernelspec": {
   "display_name": "Python 3",
   "language": "python",
   "name": "python3"
  },
  "language_info": {
   "codemirror_mode": {
    "name": "ipython",
    "version": 3
   },
   "file_extension": ".py",
   "mimetype": "text/x-python",
   "name": "python",
   "nbconvert_exporter": "python",
   "pygments_lexer": "ipython3",
   "version": "3.13.5"
  }
 },
 "nbformat": 4,
 "nbformat_minor": 5
}
