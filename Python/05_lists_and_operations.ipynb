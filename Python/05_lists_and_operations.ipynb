{
 "cells": [
  {
   "cell_type": "markdown",
   "id": "af75e130",
   "metadata": {},
   "source": [
    "\n",
    "# Lists and Operations\n"
   ]
  },
  {
   "cell_type": "code",
   "execution_count": 4,
   "id": "4418bec4",
   "metadata": {},
   "outputs": [
    {
     "name": "stdout",
     "output_type": "stream",
     "text": [
      "my first list  [1, 2, 2, 3, 4, 5, 6, 7, 'saksham', 2.3]\n",
      "len of list is  10\n",
      "type of list is  <class 'list'>\n",
      "1\n",
      "5\n",
      "[1, 2, 2, 3, 4]\n"
     ]
    }
   ],
   "source": [
    "lst = [1,2,2,3,4,5,6,7,\"saksham\",2.3]\n",
    "print(\"my first list \", lst)\n",
    "print(\"len of list is \", len(lst))\n",
    "print(\"type of list is \", type(lst))\n",
    "print(lst[0])\n",
    "print(lst[5])\n",
    "print(lst[0:5])"
   ]
  },
  {
   "cell_type": "code",
   "execution_count": null,
   "id": "9cbe2904",
   "metadata": {},
   "outputs": [
    {
     "name": "stdout",
     "output_type": "stream",
     "text": [
      "[100, 'saksham', 7, 6, 5, 4, 3, 2, 2]\n",
      "[100, 'saksham', 7, 6, 5, 4, 3, 2, 2, 100]\n",
      "[1000, 100, 'saksham', 7, 6, 5, 4, 3, 2, 2, 100]\n",
      "[1000, 100, 'saksham', 7, 6, 5, 4, 3, 2, 2, 100]\n",
      "[100, 2, 2, 3, 4, 5, 6, 7, 'saksham', 100, 1000]\n",
      "[100, 2, 2, 3, 4, 5, 6, 7, 'saksham', 100]\n",
      "2\n",
      "(100, 2, 2, 3, 4, 5, 6, 7, 'saksham', 100)\n"
     ]
    }
   ],
   "source": [
    "# basic list operations\n",
    "lst.pop() # removes last element\n",
    "print(lst)\n",
    "lst.append(100) # adds element at the end\n",
    "print(lst)\n",
    "lst.insert(0, 1000) # inserts element at index 0\n",
    "print(lst)\n",
    "cpy = lst.copy() # creates a shallow copy of the list\n",
    "print(cpy)\n",
    "lst.reverse() # reverses the list\n",
    "print(lst)\n",
    "lst.remove(1000) # removes the first occurrence of 1000\n",
    "print(lst)\n",
    "# lst.sort()  # will give error as list has string and int\n",
    "# print(lst)\n",
    "print(lst.count(2)) # counts occurrences of 2 in the list\n",
    "tpl=tuple(lst) # converts list to tuple\n",
    "print(tpl)"
   ]
  },
  {
   "cell_type": "markdown",
   "id": "46da3e73",
   "metadata": {},
   "source": [
    "# sublist task"
   ]
  },
  {
   "cell_type": "code",
   "execution_count": 7,
   "id": "14d3c97d",
   "metadata": {},
   "outputs": [
    {
     "name": "stdout",
     "output_type": "stream",
     "text": [
      "30\n"
     ]
    }
   ],
   "source": [
    "task_list = [1,2,3,4,[20,30,40],5,6,7,8]\n",
    "print(task_list[4][1])# Output: 30"
   ]
  }
 ],
 "metadata": {
  "kernelspec": {
   "display_name": "Python 3",
   "language": "python",
   "name": "python3"
  },
  "language_info": {
   "codemirror_mode": {
    "name": "ipython",
    "version": 3
   },
   "file_extension": ".py",
   "mimetype": "text/x-python",
   "name": "python",
   "nbconvert_exporter": "python",
   "pygments_lexer": "ipython3",
   "version": "3.13.5"
  }
 },
 "nbformat": 4,
 "nbformat_minor": 5
}
