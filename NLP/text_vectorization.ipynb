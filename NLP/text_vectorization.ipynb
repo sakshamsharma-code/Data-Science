{
 "cells": [
  {
   "cell_type": "markdown",
   "id": "48e9ac67",
   "metadata": {},
   "source": [
    "tf-idf"
   ]
  },
  {
   "cell_type": "code",
   "execution_count": 1,
   "id": "565c27b4",
   "metadata": {},
   "outputs": [],
   "source": [
    "import pandas as pd\n",
    "import numpy as np"
   ]
  },
  {
   "cell_type": "code",
   "execution_count": 2,
   "id": "f11ff938",
   "metadata": {},
   "outputs": [],
   "source": [
    "text={\"text\":[\"People watch Aiyug\",\"Aiyug watch Aiyug\",\"People write comment\",\"Aiyug write comment\"],\"Output\":[1,1,0,0]}"
   ]
  },
  {
   "cell_type": "code",
   "execution_count": 3,
   "id": "7703076e",
   "metadata": {},
   "outputs": [],
   "source": [
    "text=pd.DataFrame(text)"
   ]
  },
  {
   "cell_type": "code",
   "execution_count": 4,
   "id": "baab1936",
   "metadata": {},
   "outputs": [
    {
     "data": {
      "text/html": [
       "<div>\n",
       "<style scoped>\n",
       "    .dataframe tbody tr th:only-of-type {\n",
       "        vertical-align: middle;\n",
       "    }\n",
       "\n",
       "    .dataframe tbody tr th {\n",
       "        vertical-align: top;\n",
       "    }\n",
       "\n",
       "    .dataframe thead th {\n",
       "        text-align: right;\n",
       "    }\n",
       "</style>\n",
       "<table border=\"1\" class=\"dataframe\">\n",
       "  <thead>\n",
       "    <tr style=\"text-align: right;\">\n",
       "      <th></th>\n",
       "      <th>text</th>\n",
       "      <th>Output</th>\n",
       "    </tr>\n",
       "  </thead>\n",
       "  <tbody>\n",
       "    <tr>\n",
       "      <th>0</th>\n",
       "      <td>People watch Aiyug</td>\n",
       "      <td>1</td>\n",
       "    </tr>\n",
       "    <tr>\n",
       "      <th>1</th>\n",
       "      <td>Aiyug watch Aiyug</td>\n",
       "      <td>1</td>\n",
       "    </tr>\n",
       "    <tr>\n",
       "      <th>2</th>\n",
       "      <td>People write comment</td>\n",
       "      <td>0</td>\n",
       "    </tr>\n",
       "    <tr>\n",
       "      <th>3</th>\n",
       "      <td>Aiyug write comment</td>\n",
       "      <td>0</td>\n",
       "    </tr>\n",
       "  </tbody>\n",
       "</table>\n",
       "</div>"
      ],
      "text/plain": [
       "                   text  Output\n",
       "0    People watch Aiyug       1\n",
       "1     Aiyug watch Aiyug       1\n",
       "2  People write comment       0\n",
       "3   Aiyug write comment       0"
      ]
     },
     "execution_count": 4,
     "metadata": {},
     "output_type": "execute_result"
    }
   ],
   "source": [
    "text"
   ]
  },
  {
   "cell_type": "code",
   "execution_count": 5,
   "id": "908b6571",
   "metadata": {},
   "outputs": [],
   "source": [
    "from sklearn.feature_extraction.text import CountVectorizer"
   ]
  },
  {
   "cell_type": "code",
   "execution_count": 6,
   "id": "8d852a2b",
   "metadata": {},
   "outputs": [],
   "source": [
    "cv=CountVectorizer(lowercase=True,stop_words='english',binary=True)"
   ]
  },
  {
   "cell_type": "code",
   "execution_count": 7,
   "id": "fe99c2af",
   "metadata": {},
   "outputs": [],
   "source": [
    "bow=cv.fit_transform(text['text'])"
   ]
  },
  {
   "cell_type": "code",
   "execution_count": 8,
   "id": "16019f84",
   "metadata": {},
   "outputs": [
    {
     "data": {
      "text/plain": [
       "{'people': 2, 'watch': 3, 'aiyug': 0, 'write': 4, 'comment': 1}"
      ]
     },
     "execution_count": 8,
     "metadata": {},
     "output_type": "execute_result"
    }
   ],
   "source": [
    "cv.vocabulary_"
   ]
  },
  {
   "cell_type": "code",
   "execution_count": 9,
   "id": "556d61c4",
   "metadata": {},
   "outputs": [
    {
     "name": "stdout",
     "output_type": "stream",
     "text": [
      "[[1 0 1 1 0]]\n",
      "[[1 0 0 1 0]]\n",
      "[[0 1 1 0 1]]\n",
      "[[1 1 0 0 1]]\n"
     ]
    }
   ],
   "source": [
    "print(bow[0].toarray())\n",
    "print(bow[1].toarray())\n",
    "print(bow[2].toarray())\n",
    "print(bow[3].toarray())"
   ]
  },
  {
   "cell_type": "code",
   "execution_count": 10,
   "id": "d86609c1",
   "metadata": {},
   "outputs": [
    {
     "data": {
      "text/plain": [
       "array([[0, 1, 0, 1, 0]])"
      ]
     },
     "execution_count": 10,
     "metadata": {},
     "output_type": "execute_result"
    }
   ],
   "source": [
    "cv.transform([\"hello comment my name watch is saksham\"]).toarray()"
   ]
  },
  {
   "cell_type": "markdown",
   "id": "8057f6a3",
   "metadata": {},
   "source": [
    "N grams"
   ]
  },
  {
   "cell_type": "code",
   "execution_count": 11,
   "id": "47b8a9bb",
   "metadata": {},
   "outputs": [
    {
     "name": "stdout",
     "output_type": "stream",
     "text": [
      "[('I', 'love', 'natural'), ('love', 'natural', 'language'), ('natural', 'language', 'processing')]\n"
     ]
    }
   ],
   "source": [
    "from nltk import ngrams\n",
    "from nltk.tokenize import word_tokenize\n",
    "text = \"I love natural language processing\"\n",
    "tokens=word_tokenize(text)\n",
    "n=3\n",
    "trigrams = ngrams(tokens, n)\n",
    "trigrams = list(trigrams)\n",
    "print(trigrams)"
   ]
  },
  {
   "cell_type": "code",
   "execution_count": 15,
   "id": "13902f5b",
   "metadata": {},
   "outputs": [
    {
     "name": "stdout",
     "output_type": "stream",
     "text": [
      "document: 1\n",
      "language: 0.5465\n",
      "love: 0.3227\n",
      "natural: 0.5465\n",
      "processing: 0.5465\n",
      "document: 2\n",
      "learning: 0.5478\n",
      "love: 0.4254\n",
      "machine: 0.7203\n",
      "document: 3\n",
      "deep: 0.7203\n",
      "learning: 0.5478\n",
      "love: 0.4254\n"
     ]
    }
   ],
   "source": [
    "from sklearn.feature_extraction.text import TfidfVectorizer\n",
    "text = [\"i love natural language processing\",\"i love machine learning\",\"i love deep learning\"]\n",
    "vectorizer = TfidfVectorizer()\n",
    "tfidf_matrix = vectorizer.fit_transform(text)\n",
    "# print(tfidf_matrix.toarray())\n",
    "feature_names = vectorizer.get_feature_names_out()\n",
    "\n",
    "for doc_index, doc in enumerate(tfidf_matrix.toarray()):\n",
    "    print(\"document:\",doc_index+1)\n",
    "    for word_index, score in enumerate(doc):\n",
    "        if score > 0:\n",
    "            print(f\"{feature_names[word_index]}: {score:.4f}\")"
   ]
  },
  {
   "cell_type": "code",
   "execution_count": 16,
   "id": "122e6cae",
   "metadata": {},
   "outputs": [
    {
     "data": {
      "text/plain": [
       "array(['deep', 'language', 'learning', 'love', 'machine', 'natural',\n",
       "       'processing'], dtype=object)"
      ]
     },
     "execution_count": 16,
     "metadata": {},
     "output_type": "execute_result"
    }
   ],
   "source": [
    "vectorizer.get_feature_names_out()"
   ]
  },
  {
   "cell_type": "markdown",
   "id": "495d7cbb",
   "metadata": {},
   "source": [
    "speech taging"
   ]
  },
  {
   "cell_type": "code",
   "execution_count": 17,
   "id": "4b9bc1df",
   "metadata": {},
   "outputs": [],
   "source": [
    "import spacy"
   ]
  },
  {
   "cell_type": "code",
   "execution_count": 18,
   "id": "cb6dd72f",
   "metadata": {},
   "outputs": [],
   "source": [
    "pos = spacy.load('en_core_web_sm')"
   ]
  },
  {
   "cell_type": "code",
   "execution_count": 21,
   "id": "3cf38013",
   "metadata": {},
   "outputs": [],
   "source": [
    "doc = pos(\"I love natural language processing\")"
   ]
  },
  {
   "cell_type": "code",
   "execution_count": 22,
   "id": "4148a202",
   "metadata": {},
   "outputs": [
    {
     "data": {
      "text/plain": [
       "'I love natural language processing'"
      ]
     },
     "execution_count": 22,
     "metadata": {},
     "output_type": "execute_result"
    }
   ],
   "source": [
    "doc.text"
   ]
  },
  {
   "cell_type": "code",
   "execution_count": 27,
   "id": "2472b9c2",
   "metadata": {},
   "outputs": [
    {
     "data": {
      "text/plain": [
       "'NOUN'"
      ]
     },
     "execution_count": 27,
     "metadata": {},
     "output_type": "execute_result"
    }
   ],
   "source": [
    "doc[3].pos_"
   ]
  },
  {
   "cell_type": "code",
   "execution_count": 25,
   "id": "6d48a3ec",
   "metadata": {},
   "outputs": [
    {
     "name": "stdout",
     "output_type": "stream",
     "text": [
      "Token: I, POS: PRON\n",
      "Token: love, POS: VERB\n",
      "Token: natural, POS: ADJ\n",
      "Token: language, POS: NOUN\n",
      "Token: processing, POS: NOUN\n"
     ]
    }
   ],
   "source": [
    "for i in range(len(doc)):\n",
    "    print(f\"Token: {doc[i].text}, POS: {doc[i].pos_}\")"
   ]
  },
  {
   "cell_type": "code",
   "execution_count": 28,
   "id": "1afff226",
   "metadata": {},
   "outputs": [
    {
     "name": "stdout",
     "output_type": "stream",
     "text": [
      "love\n"
     ]
    }
   ],
   "source": [
    "from nltk.stem import PorterStemmer\n",
    "st = PorterStemmer()\n",
    "print(st.stem(\"loving\"))"
   ]
  },
  {
   "cell_type": "code",
   "execution_count": 30,
   "id": "68273eb2",
   "metadata": {},
   "outputs": [
    {
     "name": "stdout",
     "output_type": "stream",
     "text": [
      "love\n"
     ]
    },
    {
     "data": {
      "text/plain": [
       "'love'"
      ]
     },
     "execution_count": 30,
     "metadata": {},
     "output_type": "execute_result"
    }
   ],
   "source": [
    "print(st.stem(\"loving\"))\n",
    "st.stem(\"loving\")"
   ]
  }
 ],
 "metadata": {
  "kernelspec": {
   "display_name": "Python 3",
   "language": "python",
   "name": "python3"
  },
  "language_info": {
   "codemirror_mode": {
    "name": "ipython",
    "version": 3
   },
   "file_extension": ".py",
   "mimetype": "text/x-python",
   "name": "python",
   "nbconvert_exporter": "python",
   "pygments_lexer": "ipython3",
   "version": "3.13.5"
  }
 },
 "nbformat": 4,
 "nbformat_minor": 5
}
