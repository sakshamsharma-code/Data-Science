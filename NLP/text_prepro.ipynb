{
 "cells": [
  {
   "cell_type": "code",
   "execution_count": null,
   "id": "53e624ca",
   "metadata": {},
   "outputs": [],
   "source": [
    "# case folding\n",
    "text=\"hello, Welcome to NLP\"\n",
    "text =text.lower()\n",
    "# text=text.casefold()"
   ]
  },
  {
   "cell_type": "code",
   "execution_count": 6,
   "id": "fcf42f2b",
   "metadata": {},
   "outputs": [
    {
     "data": {
      "text/plain": [
       "'hello Welcome to NLP'"
      ]
     },
     "execution_count": 6,
     "metadata": {},
     "output_type": "execute_result"
    }
   ],
   "source": [
    "import re  #regular expression\n",
    "text=\"hello, #Welcome @to NLP\"\n",
    "re.sub(r\"[^a-zA-Z0-9\\s]\", \"\", text)  # Remove punctuation"
   ]
  },
  {
   "cell_type": "code",
   "execution_count": 7,
   "id": "069900e9",
   "metadata": {},
   "outputs": [
    {
     "data": {
      "text/plain": [
       "'hello Welcome123 to NLP'"
      ]
     },
     "execution_count": 7,
     "metadata": {},
     "output_type": "execute_result"
    }
   ],
   "source": [
    "import re\n",
    "text=\"hello, #Welcome123 @to NLP\"\n",
    "re.sub(r\"[^a-zA-Z0-9\\s]\", \"\", text)"
   ]
  },
  {
   "cell_type": "code",
   "execution_count": 8,
   "id": "7ffc135d",
   "metadata": {},
   "outputs": [
    {
     "data": {
      "text/plain": [
       "'hello Welcome to NLP'"
      ]
     },
     "execution_count": 8,
     "metadata": {},
     "output_type": "execute_result"
    }
   ],
   "source": [
    "import re\n",
    "text=\"hello, #Welcome123 @to NLP\"\n",
    "re.sub(r\"[^a-zA-Z\\s]\", \"\", text)"
   ]
  },
  {
   "cell_type": "code",
   "execution_count": 2,
   "id": "e6f7b304",
   "metadata": {},
   "outputs": [],
   "source": [
    "import spacy"
   ]
  },
  {
   "cell_type": "code",
   "execution_count": 5,
   "id": "b8d52724",
   "metadata": {},
   "outputs": [],
   "source": [
    "nlp=spacy.load('en_core_web_sm')"
   ]
  },
  {
   "cell_type": "code",
   "execution_count": 6,
   "id": "89c79cb7",
   "metadata": {},
   "outputs": [
    {
     "name": "stdout",
     "output_type": "stream",
     "text": [
      "hello Welcome to NLP\n"
     ]
    }
   ],
   "source": [
    "text=\"hello, #Welcome123 @to NLP\"\n",
    "def clean_text(text):\n",
    "    cleaned_text=\"\".join(char for char in text if char.isalpha() or char.isspace())\n",
    "    doc=nlp(cleaned_text)\n",
    "    return \" \".join(token.text for token in doc)\n",
    "clean_str=clean_text(text=text)\n",
    "print(clean_str)"
   ]
  },
  {
   "cell_type": "code",
   "execution_count": 8,
   "id": "9ca18c9d",
   "metadata": {},
   "outputs": [],
   "source": [
    "import nltk"
   ]
  },
  {
   "cell_type": "code",
   "execution_count": 12,
   "id": "ad2ec722",
   "metadata": {},
   "outputs": [
    {
     "name": "stdout",
     "output_type": "stream",
     "text": [
      "['hello', ',', '#', 'Welcome123', '@', 'to', 'NLP']\n",
      "hello Welcome123 to NLP\n"
     ]
    },
    {
     "name": "stderr",
     "output_type": "stream",
     "text": [
      "[nltk_data] Downloading package punkt_tab to\n",
      "[nltk_data]     C:\\Users\\nanus\\AppData\\Roaming\\nltk_data...\n",
      "[nltk_data]   Package punkt_tab is already up-to-date!\n"
     ]
    }
   ],
   "source": [
    "# nltk.download('punkt')\n",
    "nltk.download('punkt_tab')\n",
    "\n",
    "text =\"hello, #Welcome123 @to NLP\"\n",
    "tokens=nltk.word_tokenize(text)\n",
    "print(tokens)\n",
    "\n",
    "\n",
    "clean_tokens=[token for token in tokens if token.isalnum()]\n",
    "clean_str=\" \".join(clean_tokens)\n",
    "print(clean_str)"
   ]
  },
  {
   "cell_type": "code",
   "execution_count": 13,
   "id": "14834558",
   "metadata": {},
   "outputs": [
    {
     "name": "stdout",
     "output_type": "stream",
     "text": [
      "i`m going\n"
     ]
    }
   ],
   "source": [
    "import contractions\n",
    "text=\"i`m going\"\n",
    "expanded_text=contractions.fix(text)\n",
    "print(expanded_text)"
   ]
  },
  {
   "cell_type": "code",
   "execution_count": 15,
   "id": "c2feae8b",
   "metadata": {},
   "outputs": [
    {
     "name": "stdout",
     "output_type": "stream",
     "text": [
      "i am going\n"
     ]
    }
   ],
   "source": [
    "text=\"i'm going\"\n",
    "expanded_text=contractions.fix(text)\n",
    "print(expanded_text)"
   ]
  },
  {
   "cell_type": "code",
   "execution_count": 23,
   "id": "4a3c5b47",
   "metadata": {},
   "outputs": [
    {
     "data": {
      "text/plain": [
       "'Ram is http://example.com shyam'"
      ]
     },
     "execution_count": 23,
     "metadata": {},
     "output_type": "execute_result"
    }
   ],
   "source": [
    "sentence=\"Ram is http://example.com shyam\" # removes html tags\n",
    "import re\n",
    "re.sub(r\"<.*?>\", \"\", sentence)"
   ]
  },
  {
   "cell_type": "code",
   "execution_count": 24,
   "id": "7a7e91dd",
   "metadata": {},
   "outputs": [
    {
     "data": {
      "text/plain": [
       "'Ram is  shyam'"
      ]
     },
     "execution_count": 24,
     "metadata": {},
     "output_type": "execute_result"
    }
   ],
   "source": [
    "sentence=\"Ram is http://example.com shyam\" # removes html links\n",
    "import re\n",
    "re.sub(r'https?://\\S+', '', sentence)"
   ]
  },
  {
   "cell_type": "code",
   "execution_count": 25,
   "id": "27b1bd52",
   "metadata": {},
   "outputs": [],
   "source": [
    "chat_word_dict = {\n",
    "    \"u\": \"you\",\n",
    "    \"r\": \"are\",\n",
    "    \"b4\": \"before\",\n",
    "    \"gr8\": \"great\",\n",
    "    \"l8r\": \"later\",\n",
    "    \"idk\": \"I don't know\",\n",
    "    \"btw\": \"by the way\",\n",
    "    \"imo\": \"in my opinion\",\n",
    "    \"ttyl\": \"talk to you later\",\n",
    "    \"brb\": \"be right back\",\n",
    "    \"wanna\": \"want to\",\n",
    "    \"gonna\": \"going to\",\n",
    "    \"lemme\": \"let me\",\n",
    "    \"dunno\": \"don't know\",\n",
    "    \"thx\": \"thanks\",\n",
    "    \"pls\": \"please\",\n",
    "    \"ppl\": \"people\",\n",
    "    \"smh\": \"shaking my head\",\n",
    "    \"tbh\": \"to be honest\",\n",
    "    \"omg\": \"oh my god\",\n",
    "    \"lol\": \"laugh out loud\",\n",
    "    \"rofl\": \"rolling on the floor laughing\",\n",
    "    \"afk\": \"away from keyboard\",\n",
    "    \"np\": \"no problem\",\n",
    "    \"gtg\": \"got to go\",\n",
    "    \"jk\": \"just kidding\",\n",
    "    \"hbu\": \"how about you\",\n",
    "    \"ily\": \"I love you\",\n",
    "    \"ttys\": \"talk to you soon\"\n",
    "}"
   ]
  },
  {
   "cell_type": "code",
   "execution_count": 26,
   "id": "c54e53af",
   "metadata": {},
   "outputs": [],
   "source": [
    "chat_text=\"omg idk what u r talking about lol\"\n",
    "def normalize_text(chat_text):\n",
    "    words=chat_text.split()\n",
    "    normalized_words=[chat_word_dict.get(word.lower(), word) for word in words]\n",
    "    return \" \".join(normalized_words)\n"
   ]
  },
  {
   "cell_type": "code",
   "execution_count": 27,
   "id": "b3bb9730",
   "metadata": {},
   "outputs": [],
   "source": [
    "normalized_text = normalize_text(chat_text)"
   ]
  },
  {
   "cell_type": "code",
   "execution_count": 28,
   "id": "53cce7f4",
   "metadata": {},
   "outputs": [
    {
     "data": {
      "text/plain": [
       "\"oh my god I don't know what you are talking about laugh out loud\""
      ]
     },
     "execution_count": 28,
     "metadata": {},
     "output_type": "execute_result"
    }
   ],
   "source": [
    "normalized_text"
   ]
  }
 ],
 "metadata": {
  "kernelspec": {
   "display_name": "Python 3",
   "language": "python",
   "name": "python3"
  },
  "language_info": {
   "codemirror_mode": {
    "name": "ipython",
    "version": 3
   },
   "file_extension": ".py",
   "mimetype": "text/x-python",
   "name": "python",
   "nbconvert_exporter": "python",
   "pygments_lexer": "ipython3",
   "version": "3.13.5"
  }
 },
 "nbformat": 4,
 "nbformat_minor": 5
}
